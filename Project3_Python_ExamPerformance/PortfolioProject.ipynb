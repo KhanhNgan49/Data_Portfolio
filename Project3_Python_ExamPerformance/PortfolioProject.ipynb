{
 "cells": [
  {
   "cell_type": "markdown",
   "id": "10bc489c",
   "metadata": {},
   "source": [
    "#### Bước 1. Chuẩn bị môi trường"
   ]
  },
  {
   "cell_type": "code",
   "execution_count": 1,
   "id": "3998d27e",
   "metadata": {},
   "outputs": [],
   "source": [
    "import pandas as pd\n",
    "import numpy as np\n",
    "import matplotlib.pyplot as plt\n",
    "import seaborn as sns"
   ]
  },
  {
   "cell_type": "markdown",
   "id": "74d51912",
   "metadata": {},
   "source": [
    "#### Bước 2. Nạp và xem dữ liệu"
   ]
  },
  {
   "cell_type": "code",
   "execution_count": 2,
   "id": "27c43028",
   "metadata": {},
   "outputs": [
    {
     "name": "stdout",
     "output_type": "stream",
     "text": [
      "<class 'pandas.core.frame.DataFrame'>\n",
      "RangeIndex: 10000 entries, 0 to 9999\n",
      "Data columns (total 12 columns):\n",
      " #   Column                       Non-Null Count  Dtype  \n",
      "---  ------                       --------------  -----  \n",
      " 0   roll_no                      9999 non-null   object \n",
      " 1   gender                       9982 non-null   object \n",
      " 2   race_ethnicity               9977 non-null   object \n",
      " 3   parental_level_of_education  9978 non-null   object \n",
      " 4   lunch                        9976 non-null   float64\n",
      " 5   test_preparation_course      9977 non-null   float64\n",
      " 6   math_score                   9976 non-null   object \n",
      " 7   reading_score                9975 non-null   float64\n",
      " 8   writing_score                9976 non-null   float64\n",
      " 9   science_score                9977 non-null   float64\n",
      " 10  total_score                  9981 non-null   float64\n",
      " 11  grade                        9997 non-null   object \n",
      "dtypes: float64(6), object(6)\n",
      "memory usage: 937.6+ KB\n"
     ]
    }
   ],
   "source": [
    "df = pd.read_csv(r\"C:\\Users\\22520\\Downloads\\archive\\Student_performance_10k.csv\")\n",
    "df.info()"
   ]
  },
  {
   "cell_type": "code",
   "execution_count": 28,
   "id": "fad83adb",
   "metadata": {},
   "outputs": [
    {
     "data": {
      "text/plain": [
       "(10000, 12)"
      ]
     },
     "execution_count": 28,
     "metadata": {},
     "output_type": "execute_result"
    }
   ],
   "source": [
    "df.shape"
   ]
  },
  {
   "cell_type": "code",
   "execution_count": 29,
   "id": "fa4d98ed",
   "metadata": {},
   "outputs": [
    {
     "data": {
      "text/html": [
       "<div>\n",
       "<style scoped>\n",
       "    .dataframe tbody tr th:only-of-type {\n",
       "        vertical-align: middle;\n",
       "    }\n",
       "\n",
       "    .dataframe tbody tr th {\n",
       "        vertical-align: top;\n",
       "    }\n",
       "\n",
       "    .dataframe thead th {\n",
       "        text-align: right;\n",
       "    }\n",
       "</style>\n",
       "<table border=\"1\" class=\"dataframe\">\n",
       "  <thead>\n",
       "    <tr style=\"text-align: right;\">\n",
       "      <th></th>\n",
       "      <th>roll_no</th>\n",
       "      <th>gender</th>\n",
       "      <th>race_ethnicity</th>\n",
       "      <th>parental_level_of_education</th>\n",
       "      <th>lunch</th>\n",
       "      <th>test_preparation_course</th>\n",
       "      <th>math_score</th>\n",
       "      <th>reading_score</th>\n",
       "      <th>writing_score</th>\n",
       "      <th>science_score</th>\n",
       "      <th>total_score</th>\n",
       "      <th>grade</th>\n",
       "    </tr>\n",
       "  </thead>\n",
       "  <tbody>\n",
       "    <tr>\n",
       "      <th>0</th>\n",
       "      <td>std-01</td>\n",
       "      <td>male</td>\n",
       "      <td>group D</td>\n",
       "      <td>some college</td>\n",
       "      <td>1.0</td>\n",
       "      <td>1.0</td>\n",
       "      <td>89</td>\n",
       "      <td>38.0</td>\n",
       "      <td>85.0</td>\n",
       "      <td>26.0</td>\n",
       "      <td>238.0</td>\n",
       "      <td>C</td>\n",
       "    </tr>\n",
       "    <tr>\n",
       "      <th>1</th>\n",
       "      <td>std-02</td>\n",
       "      <td>male</td>\n",
       "      <td>group B</td>\n",
       "      <td>high school</td>\n",
       "      <td>1.0</td>\n",
       "      <td>0.0</td>\n",
       "      <td>65</td>\n",
       "      <td>100.0</td>\n",
       "      <td>67.0</td>\n",
       "      <td>96.0</td>\n",
       "      <td>328.0</td>\n",
       "      <td>A</td>\n",
       "    </tr>\n",
       "    <tr>\n",
       "      <th>2</th>\n",
       "      <td>std-03</td>\n",
       "      <td>male</td>\n",
       "      <td>group C</td>\n",
       "      <td>master's degree</td>\n",
       "      <td>1.0</td>\n",
       "      <td>0.0</td>\n",
       "      <td>10</td>\n",
       "      <td>99.0</td>\n",
       "      <td>97.0</td>\n",
       "      <td>58.0</td>\n",
       "      <td>264.0</td>\n",
       "      <td>B</td>\n",
       "    </tr>\n",
       "    <tr>\n",
       "      <th>3</th>\n",
       "      <td>std-04</td>\n",
       "      <td>male</td>\n",
       "      <td>group D</td>\n",
       "      <td>some college</td>\n",
       "      <td>1.0</td>\n",
       "      <td>1.0</td>\n",
       "      <td>22</td>\n",
       "      <td>51.0</td>\n",
       "      <td>41.0</td>\n",
       "      <td>84.0</td>\n",
       "      <td>198.0</td>\n",
       "      <td>D</td>\n",
       "    </tr>\n",
       "    <tr>\n",
       "      <th>4</th>\n",
       "      <td>std-05</td>\n",
       "      <td>male</td>\n",
       "      <td>group C</td>\n",
       "      <td>some college</td>\n",
       "      <td>0.0</td>\n",
       "      <td>1.0</td>\n",
       "      <td>26</td>\n",
       "      <td>58.0</td>\n",
       "      <td>64.0</td>\n",
       "      <td>65.0</td>\n",
       "      <td>213.0</td>\n",
       "      <td>C</td>\n",
       "    </tr>\n",
       "  </tbody>\n",
       "</table>\n",
       "</div>"
      ],
      "text/plain": [
       "  roll_no gender race_ethnicity parental_level_of_education  lunch  \\\n",
       "0  std-01   male        group D                some college    1.0   \n",
       "1  std-02   male        group B                 high school    1.0   \n",
       "2  std-03   male        group C             master's degree    1.0   \n",
       "3  std-04   male        group D                some college    1.0   \n",
       "4  std-05   male        group C                some college    0.0   \n",
       "\n",
       "   test_preparation_course math_score  reading_score  writing_score  \\\n",
       "0                      1.0         89           38.0           85.0   \n",
       "1                      0.0         65          100.0           67.0   \n",
       "2                      0.0         10           99.0           97.0   \n",
       "3                      1.0         22           51.0           41.0   \n",
       "4                      1.0         26           58.0           64.0   \n",
       "\n",
       "   science_score  total_score grade  \n",
       "0           26.0        238.0     C  \n",
       "1           96.0        328.0     A  \n",
       "2           58.0        264.0     B  \n",
       "3           84.0        198.0     D  \n",
       "4           65.0        213.0     C  "
      ]
     },
     "execution_count": 29,
     "metadata": {},
     "output_type": "execute_result"
    }
   ],
   "source": [
    "df.head()"
   ]
  },
  {
   "cell_type": "code",
   "execution_count": 5,
   "id": "913cb172",
   "metadata": {},
   "outputs": [
    {
     "data": {
      "text/html": [
       "<div>\n",
       "<style scoped>\n",
       "    .dataframe tbody tr th:only-of-type {\n",
       "        vertical-align: middle;\n",
       "    }\n",
       "\n",
       "    .dataframe tbody tr th {\n",
       "        vertical-align: top;\n",
       "    }\n",
       "\n",
       "    .dataframe thead th {\n",
       "        text-align: right;\n",
       "    }\n",
       "</style>\n",
       "<table border=\"1\" class=\"dataframe\">\n",
       "  <thead>\n",
       "    <tr style=\"text-align: right;\">\n",
       "      <th></th>\n",
       "      <th>lunch</th>\n",
       "      <th>test_preparation_course</th>\n",
       "      <th>reading_score</th>\n",
       "      <th>writing_score</th>\n",
       "      <th>science_score</th>\n",
       "      <th>total_score</th>\n",
       "    </tr>\n",
       "  </thead>\n",
       "  <tbody>\n",
       "    <tr>\n",
       "      <th>count</th>\n",
       "      <td>9976.000000</td>\n",
       "      <td>9977.000000</td>\n",
       "      <td>9975.000000</td>\n",
       "      <td>9976.000000</td>\n",
       "      <td>9977.000000</td>\n",
       "      <td>9981.000000</td>\n",
       "    </tr>\n",
       "    <tr>\n",
       "      <th>mean</th>\n",
       "      <td>0.644246</td>\n",
       "      <td>0.388694</td>\n",
       "      <td>70.125915</td>\n",
       "      <td>71.415798</td>\n",
       "      <td>66.063045</td>\n",
       "      <td>264.740908</td>\n",
       "    </tr>\n",
       "    <tr>\n",
       "      <th>std</th>\n",
       "      <td>0.478765</td>\n",
       "      <td>0.487478</td>\n",
       "      <td>19.026245</td>\n",
       "      <td>18.245360</td>\n",
       "      <td>19.324331</td>\n",
       "      <td>42.304858</td>\n",
       "    </tr>\n",
       "    <tr>\n",
       "      <th>min</th>\n",
       "      <td>0.000000</td>\n",
       "      <td>0.000000</td>\n",
       "      <td>17.000000</td>\n",
       "      <td>10.000000</td>\n",
       "      <td>9.000000</td>\n",
       "      <td>89.000000</td>\n",
       "    </tr>\n",
       "    <tr>\n",
       "      <th>25%</th>\n",
       "      <td>0.000000</td>\n",
       "      <td>0.000000</td>\n",
       "      <td>57.000000</td>\n",
       "      <td>59.000000</td>\n",
       "      <td>53.000000</td>\n",
       "      <td>237.000000</td>\n",
       "    </tr>\n",
       "    <tr>\n",
       "      <th>50%</th>\n",
       "      <td>1.000000</td>\n",
       "      <td>0.000000</td>\n",
       "      <td>71.000000</td>\n",
       "      <td>72.500000</td>\n",
       "      <td>67.000000</td>\n",
       "      <td>268.000000</td>\n",
       "    </tr>\n",
       "    <tr>\n",
       "      <th>75%</th>\n",
       "      <td>1.000000</td>\n",
       "      <td>1.000000</td>\n",
       "      <td>85.000000</td>\n",
       "      <td>85.000000</td>\n",
       "      <td>81.000000</td>\n",
       "      <td>294.000000</td>\n",
       "    </tr>\n",
       "    <tr>\n",
       "      <th>max</th>\n",
       "      <td>1.000000</td>\n",
       "      <td>1.000000</td>\n",
       "      <td>100.000000</td>\n",
       "      <td>100.000000</td>\n",
       "      <td>100.000000</td>\n",
       "      <td>383.000000</td>\n",
       "    </tr>\n",
       "  </tbody>\n",
       "</table>\n",
       "</div>"
      ],
      "text/plain": [
       "             lunch  test_preparation_course  reading_score  writing_score  \\\n",
       "count  9976.000000              9977.000000    9975.000000    9976.000000   \n",
       "mean      0.644246                 0.388694      70.125915      71.415798   \n",
       "std       0.478765                 0.487478      19.026245      18.245360   \n",
       "min       0.000000                 0.000000      17.000000      10.000000   \n",
       "25%       0.000000                 0.000000      57.000000      59.000000   \n",
       "50%       1.000000                 0.000000      71.000000      72.500000   \n",
       "75%       1.000000                 1.000000      85.000000      85.000000   \n",
       "max       1.000000                 1.000000     100.000000     100.000000   \n",
       "\n",
       "       science_score  total_score  \n",
       "count    9977.000000  9981.000000  \n",
       "mean       66.063045   264.740908  \n",
       "std        19.324331    42.304858  \n",
       "min         9.000000    89.000000  \n",
       "25%        53.000000   237.000000  \n",
       "50%        67.000000   268.000000  \n",
       "75%        81.000000   294.000000  \n",
       "max       100.000000   383.000000  "
      ]
     },
     "execution_count": 5,
     "metadata": {},
     "output_type": "execute_result"
    }
   ],
   "source": [
    "df.describe()"
   ]
  },
  {
   "cell_type": "markdown",
   "id": "cf1ea913",
   "metadata": {},
   "source": [
    "#### Bước 3. Làm sạch dữ liệu"
   ]
  },
  {
   "cell_type": "code",
   "execution_count": 3,
   "id": "04ba04a7",
   "metadata": {},
   "outputs": [
    {
     "data": {
      "text/plain": [
       "roll_no                         1\n",
       "gender                         18\n",
       "race_ethnicity                 23\n",
       "parental_level_of_education    22\n",
       "lunch                          24\n",
       "test_preparation_course        23\n",
       "math_score                     24\n",
       "reading_score                  25\n",
       "writing_score                  24\n",
       "science_score                  23\n",
       "total_score                    19\n",
       "grade                           3\n",
       "dtype: int64"
      ]
     },
     "execution_count": 3,
     "metadata": {},
     "output_type": "execute_result"
    }
   ],
   "source": [
    "df.isnull().sum()"
   ]
  },
  {
   "cell_type": "code",
   "execution_count": 4,
   "id": "fd63cdac",
   "metadata": {},
   "outputs": [],
   "source": [
    "df= df.dropna()"
   ]
  },
  {
   "cell_type": "code",
   "execution_count": 5,
   "id": "ea8970ea",
   "metadata": {},
   "outputs": [
    {
     "data": {
      "text/plain": [
       "roll_no                        0\n",
       "gender                         0\n",
       "race_ethnicity                 0\n",
       "parental_level_of_education    0\n",
       "lunch                          0\n",
       "test_preparation_course        0\n",
       "math_score                     0\n",
       "reading_score                  0\n",
       "writing_score                  0\n",
       "science_score                  0\n",
       "total_score                    0\n",
       "grade                          0\n",
       "dtype: int64"
      ]
     },
     "execution_count": 5,
     "metadata": {},
     "output_type": "execute_result"
    }
   ],
   "source": [
    "df.isnull().sum()"
   ]
  },
  {
   "cell_type": "markdown",
   "id": "3c4f62f8",
   "metadata": {},
   "source": [
    "#### Bước 4. Phân tích và trực quan hoá"
   ]
  },
  {
   "cell_type": "code",
   "execution_count": null,
   "id": "e5641223",
   "metadata": {},
   "outputs": [
    {
     "name": "stdout",
     "output_type": "stream",
     "text": [
      "'roll_no'\n",
      "'gender'\n",
      "'race_ethnicity'\n",
      "'parental_level_of_education'\n",
      "'lunch'\n",
      "'test_preparation_course'\n",
      "'math_score'\n",
      "'reading_score'\n",
      "'writing_score'\n",
      "'science_score'\n",
      "'total_score'\n",
      "'grade'\n"
     ]
    }
   ],
   "source": [
    "for col in df.columns:\n",
    "    print(repr(col))"
   ]
  },
  {
   "cell_type": "markdown",
   "id": "26114c48",
   "metadata": {},
   "source": [
    "##### Chuyển cột 'math_score' về kiểu số"
   ]
  },
  {
   "cell_type": "code",
   "execution_count": 9,
   "id": "3807af6c",
   "metadata": {},
   "outputs": [],
   "source": [
    "df['math_score'] = pd.to_numeric(df['math_score'], errors='coerce')"
   ]
  },
  {
   "cell_type": "markdown",
   "id": "82dbe37f",
   "metadata": {},
   "source": [
    "##### Thêm cột điểm trung bình"
   ]
  },
  {
   "cell_type": "code",
   "execution_count": 10,
   "id": "44652abe",
   "metadata": {},
   "outputs": [],
   "source": [
    "df[\"average_score\"] = df[[\"math_score\",\"reading_score\",\"writing_score\"]].mean(axis=1)"
   ]
  },
  {
   "cell_type": "markdown",
   "id": "0e690452",
   "metadata": {},
   "source": [
    "##### 4.1 Phân phối điểm trung bình"
   ]
  },
  {
   "cell_type": "code",
   "execution_count": null,
   "id": "a3fca51b",
   "metadata": {},
   "outputs": [
    {
     "data": {
      "image/png": "[encoded data removed]",
      "text/plain": [
       "<Figure size 640x480 with 1 Axes>"
      ]
     },
     "metadata": {},
     "output_type": "display_data"
    }
   ],
   "source": [
    "sns.histplot(df[\"average_score\"], kde=True, bins=20, color=\"skyblue\")\n",
    "plt.title(\"Phân phối điểm trung bình\")\n",
    "plt.xlabel(\"Điểm trung bình\")\n",
    "plt.ylabel(\"Số học sinh\")\n",
    "plt.show()"
   ]
  },
  {
   "cell_type": "markdown",
   "id": "54ece426",
   "metadata": {},
   "source": [
    "##### 4.2 So sánh điểm theo giới tính"
   ]
  },
  {
   "cell_type": "code",
   "execution_count": 6,
   "id": "0d444231",
   "metadata": {},
   "outputs": [],
   "source": [
    "df['gender'] = df['gender'].str.strip().str.lower()"
   ]
  },
  {
   "cell_type": "code",
   "execution_count": 7,
   "id": "bbda63ec",
   "metadata": {},
   "outputs": [],
   "source": [
    "df['gender'] = df['gender'].replace({\n",
    "    'boy': 'male',\n",
    "    'man': 'male',\n",
    "    'girl': 'female',\n",
    "    'woman': 'female'\n",
    "})"
   ]
  },
  {
   "cell_type": "code",
   "execution_count": 11,
   "id": "aae45991",
   "metadata": {},
   "outputs": [
    {
     "name": "stderr",
     "output_type": "stream",
     "text": [
      "D:\\Temp\\ipykernel_24804\\4023083800.py:1: FutureWarning: \n",
      "\n",
      "Passing `palette` without assigning `hue` is deprecated and will be removed in v0.14.0. Assign the `x` variable to `hue` and set `legend=False` for the same effect.\n",
      "\n",
      "  sns.boxplot(x=\"gender\", y=\"average_score\", data=df, palette=\"Set2\")\n"
     ]
    },
    {
     "data": {
      "image/png": "[encoded data removed]",
      "text/plain": [
       "<Figure size 640x480 with 1 Axes>"
      ]
     },
     "metadata": {},
     "output_type": "display_data"
    }
   ],
   "source": [
    "sns.boxplot(x=\"gender\", y=\"average_score\", data=df, palette=\"Set2\")\n",
    "plt.title(\"So sánh điểm trung bình theo giới tính\")\n",
    "plt.show()"
   ]
  },
  {
   "cell_type": "markdown",
   "id": "195fe5fa",
   "metadata": {},
   "source": [
    "##### 4.3 Điểm trung bình theo trình độ học vấn của phụ huynh"
   ]
  },
  {
   "cell_type": "code",
   "execution_count": null,
   "id": "ba61f5a9",
   "metadata": {},
   "outputs": [
    {
     "name": "stderr",
     "output_type": "stream",
     "text": [
      "D:\\Temp\\ipykernel_12488\\877156577.py:1: FutureWarning: \n",
      "\n",
      "The `ci` parameter is deprecated. Use `errorbar=None` for the same effect.\n",
      "\n",
      "  sns.barplot(x=\"parental_level_of_education\", y=\"average_score\", data=df, ci=None, palette=\"viridis\")\n",
      "D:\\Temp\\ipykernel_12488\\877156577.py:1: FutureWarning: \n",
      "\n",
      "Passing `palette` without assigning `hue` is deprecated and will be removed in v0.14.0. Assign the `x` variable to `hue` and set `legend=False` for the same effect.\n",
      "\n",
      "  sns.barplot(x=\"parental_level_of_education\", y=\"average_score\", data=df, ci=None, palette=\"viridis\")\n"
     ]
    },
    {
     "data": {
      "image/png": "[encoded data removed]",
      "text/plain": [
       "<Figure size 640x480 with 1 Axes>"
      ]
     },
     "metadata": {},
     "output_type": "display_data"
    }
   ],
   "source": [
    "sns.barplot(x=\"parental_level_of_education\", y=\"average_score\", data=df, ci=None, palette=\"viridis\")\n",
    "plt.xticks(rotation=45)\n",
    "plt.title(\"Điểm trung bình theo trình độ học vấn của phụ huynh\")\n",
    "plt.show()"
   ]
  }
 ],
 "metadata": {
  "kernelspec": {
   "display_name": "Python 3",
   "language": "python",
   "name": "python3"
  },
  "language_info": {
   "codemirror_mode": {
    "name": "ipython",
    "version": 3
   },
   "file_extension": ".py",
   "mimetype": "text/x-python",
   "name": "python",
   "nbconvert_exporter": "python",
   "pygments_lexer": "ipython3",
   "version": "3.13.0"
  }
 },
 "nbformat": 4,
 "nbformat_minor": 5
}
